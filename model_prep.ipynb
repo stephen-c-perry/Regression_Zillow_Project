{
 "cells": [
  {
   "cell_type": "code",
   "execution_count": 1,
   "metadata": {},
   "outputs": [],
   "source": [
    "import numpy as np\n",
    "import pandas as pd\n",
    "import matplotlib.pyplot as plt\n",
    "import seaborn as sns\n",
    "\n",
    "from scipy import stats\n",
    "import sklearn.preprocessing as p\n",
    "from sklearn.model_selection import train_test_split\n",
    "\n",
    "import wrangle as w\n",
    "import explore as e\n",
    "import acquire as a\n",
    "import warnings\n",
    "warnings.filterwarnings(\"ignore\")\n",
    "import env\n",
    "import prepare_regression as pr\n",
    "\n",
    "# modeling methods\n",
    "from sklearn.metrics import mean_squared_error\n",
    "from sklearn.linear_model import LinearRegression, LassoLars, TweedieRegressor\n",
    "from sklearn.preprocessing import PolynomialFeatures\n",
    "\n",
    "\n",
    "\n",
    "%matplotlib inline\n",
    "\n",
    "train, validate, test = w.wrangle_zillow()"
   ]
  },
  {
   "cell_type": "markdown",
   "metadata": {},
   "source": [
    "county_encoded = pd.get_dummies(train.county, drop_first=False)\n",
    "\n",
    "train_encoded = train.merge(county_encoded, left_index=True, right_index=True)\n",
    "train_encoded = train_encoded.drop(columns='county')\n",
    "\n",
    "train_encoded.head()\n",
    "\n",
    "\n"
   ]
  },
  {
   "attachments": {},
   "cell_type": "markdown",
   "metadata": {},
   "source": [
    "Features to include:\n",
    "\n",
    "- counties (Los_Angeles, Orange, Ventura)\n",
    "-  total_sqft\n",
    "- tax_value (when do I drop this?)\n",
    "- bathrooms\n"
   ]
  },
  {
   "cell_type": "markdown",
   "metadata": {},
   "source": [
    "#minmaxscaler\n",
    "\n",
    "def scale_zillow(train, validate, test):\n",
    "\n",
    "    train_1 = train.copy()\n",
    "    validate_1 = validate.copy()\n",
    "    test_1 = validate.copy()\n",
    "\n",
    "    scale_cols = ['bedrooms', 'bathrooms', 'total_sqft', 'year_built', 'tax_value']\n",
    "    minmax_scaler = p.MinMaxScaler()\n",
    "    minmax_scaler.fit(train_1[scale_cols])\n",
    "    train_1[scale_cols] = minmax_scaler.transform(train[scale_cols])\n",
    "    validate_1 = minmax_scaler.transform(validate[scale_cols])\n",
    "    test_1 = minmax_scaler.transform(test[scale_cols])\n",
    "\n",
    "    return pd.DataFrame(train_1).set_index([train.index.values]), pd.DataFrame(validate_1).set_index([validate.index.values]), pd.DataFrame(test_1).set_index([test.index.values])\n"
   ]
  },
  {
   "cell_type": "markdown",
   "metadata": {},
   "source": [
    "train_1, validate_1, test_1 = scale_zillow(train, validate, test)"
   ]
  },
  {
   "cell_type": "code",
   "execution_count": null,
   "metadata": {},
   "outputs": [],
   "source": []
  },
  {
   "cell_type": "code",
   "execution_count": null,
   "metadata": {},
   "outputs": [],
   "source": [
    "train = e.county_dummies(train)"
   ]
  },
  {
   "cell_type": "code",
   "execution_count": null,
   "metadata": {},
   "outputs": [],
   "source": [
    "train.head()"
   ]
  },
  {
   "cell_type": "code",
   "execution_count": null,
   "metadata": {},
   "outputs": [],
   "source": [
    "train = train.drop(columns= ['parcel_id', 'property_id', 'zip_code'])"
   ]
  },
  {
   "cell_type": "code",
   "execution_count": null,
   "metadata": {},
   "outputs": [],
   "source": [
    "train.head()"
   ]
  },
  {
   "cell_type": "code",
   "execution_count": null,
   "metadata": {},
   "outputs": [],
   "source": [
    "validate = e.county_dummies(validate)"
   ]
  },
  {
   "cell_type": "code",
   "execution_count": null,
   "metadata": {},
   "outputs": [],
   "source": [
    "validate = validate.drop(columns= ['parcel_id', 'property_id', 'zip_code'])"
   ]
  },
  {
   "cell_type": "code",
   "execution_count": null,
   "metadata": {},
   "outputs": [],
   "source": [
    "validate"
   ]
  },
  {
   "cell_type": "code",
   "execution_count": null,
   "metadata": {},
   "outputs": [],
   "source": [
    "test = e.county_dummies(test)\n",
    "test = test.drop(columns= ['parcel_id', 'property_id', 'zip_code'])\n",
    "test.head()"
   ]
  },
  {
   "attachments": {},
   "cell_type": "markdown",
   "metadata": {},
   "source": [
    "- - -\n",
    "\n",
    "- - -\n",
    "\n",
    "- - -"
   ]
  },
  {
   "cell_type": "code",
   "execution_count": 3,
   "metadata": {},
   "outputs": [],
   "source": [
    "#getting county dummies and dropping columns\n",
    "train, validate, test = e.model_prep(train, validate, test)\n",
    "\n",
    "#separating target variable\n",
    "train_X_train, train_y_train = e.X_train_y_train_split(train)\n",
    "validate_X_train, validate_y_train = e.X_train_y_train_split(validate)\n",
    "test_X_train, test_y_train = e.X_train_y_train_split(test)\n",
    "\n",
    "#scaling\n",
    "train_X_train, validate_X_train, test_X_train = pr.scale_dataframes(train_X_train, validate_X_train, test_X_train)"
   ]
  },
  {
   "cell_type": "markdown",
   "metadata": {},
   "source": [
    "train_X_train.head(), validate_X_train.head(), test_X_train.head()"
   ]
  },
  {
   "cell_type": "markdown",
   "metadata": {},
   "source": [
    "#scaling\n",
    "train_X_train, validate_X_train, test_X_train = pr.scale_dataframes(train_X_train, validate_X_train, test_X_train)\n"
   ]
  },
  {
   "cell_type": "markdown",
   "metadata": {},
   "source": [
    "train_y_train.head(), validate_y_train.head(), test_y_train.head()"
   ]
  },
  {
   "cell_type": "code",
   "execution_count": 5,
   "metadata": {},
   "outputs": [
    {
     "data": {
      "text/plain": [
       "<function matplotlib.pyplot.xlabel(xlabel, fontdict=None, labelpad=None, *, loc=None, **kwargs)>"
      ]
     },
     "execution_count": 5,
     "metadata": {},
     "output_type": "execute_result"
    },
    {
     "data": {
      "image/png": "[encoded data removed]",
      "text/plain": [
       "<Figure size 640x480 with 1 Axes>"
      ]
     },
     "metadata": {},
     "output_type": "display_data"
    }
   ],
   "source": [
    "#plot variable y\n",
    "plt.hist(train_y_train)\n",
    "plt.xlabel"
   ]
  },
  {
   "attachments": {},
   "cell_type": "markdown",
   "metadata": {},
   "source": [
    "- - -\n",
    "                                      Get Baseline\n",
    "- - -"
   ]
  },
  {
   "cell_type": "code",
   "execution_count": 12,
   "metadata": {},
   "outputs": [
    {
     "data": {
      "text/plain": [
       "tax_value    527866.299164\n",
       "dtype: float64"
      ]
     },
     "execution_count": 12,
     "metadata": {},
     "output_type": "execute_result"
    }
   ],
   "source": [
    "y_mean = train_y_train.mean()\n",
    "y_mean"
   ]
  },
  {
   "cell_type": "code",
   "execution_count": 16,
   "metadata": {},
   "outputs": [],
   "source": [
    "#store the mean\n",
    "train_y_train['y_pred_mean'] = 527866.30\n"
   ]
  },
  {
   "cell_type": "code",
   "execution_count": 17,
   "metadata": {},
   "outputs": [
    {
     "data": {
      "text/html": [
       "<div>\n",
       "<style scoped>\n",
       "    .dataframe tbody tr th:only-of-type {\n",
       "        vertical-align: middle;\n",
       "    }\n",
       "\n",
       "    .dataframe tbody tr th {\n",
       "        vertical-align: top;\n",
       "    }\n",
       "\n",
       "    .dataframe thead th {\n",
       "        text-align: right;\n",
       "    }\n",
       "</style>\n",
       "<table border=\"1\" class=\"dataframe\">\n",
       "  <thead>\n",
       "    <tr style=\"text-align: right;\">\n",
       "      <th></th>\n",
       "      <th>tax_value</th>\n",
       "      <th>y_pred_mean</th>\n",
       "    </tr>\n",
       "  </thead>\n",
       "  <tbody>\n",
       "    <tr>\n",
       "      <th>31793</th>\n",
       "      <td>428575.0</td>\n",
       "      <td>527866.3</td>\n",
       "    </tr>\n",
       "    <tr>\n",
       "      <th>52132</th>\n",
       "      <td>647000.0</td>\n",
       "      <td>527866.3</td>\n",
       "    </tr>\n",
       "    <tr>\n",
       "      <th>36759</th>\n",
       "      <td>245335.0</td>\n",
       "      <td>527866.3</td>\n",
       "    </tr>\n",
       "    <tr>\n",
       "      <th>27845</th>\n",
       "      <td>389856.0</td>\n",
       "      <td>527866.3</td>\n",
       "    </tr>\n",
       "    <tr>\n",
       "      <th>10940</th>\n",
       "      <td>571678.0</td>\n",
       "      <td>527866.3</td>\n",
       "    </tr>\n",
       "    <tr>\n",
       "      <th>...</th>\n",
       "      <td>...</td>\n",
       "      <td>...</td>\n",
       "    </tr>\n",
       "    <tr>\n",
       "      <th>36610</th>\n",
       "      <td>692000.0</td>\n",
       "      <td>527866.3</td>\n",
       "    </tr>\n",
       "    <tr>\n",
       "      <th>37446</th>\n",
       "      <td>408327.0</td>\n",
       "      <td>527866.3</td>\n",
       "    </tr>\n",
       "    <tr>\n",
       "      <th>28826</th>\n",
       "      <td>528945.0</td>\n",
       "      <td>527866.3</td>\n",
       "    </tr>\n",
       "    <tr>\n",
       "      <th>7133</th>\n",
       "      <td>440273.0</td>\n",
       "      <td>527866.3</td>\n",
       "    </tr>\n",
       "    <tr>\n",
       "      <th>25682</th>\n",
       "      <td>78282.0</td>\n",
       "      <td>527866.3</td>\n",
       "    </tr>\n",
       "  </tbody>\n",
       "</table>\n",
       "<p>28817 rows × 2 columns</p>\n",
       "</div>"
      ],
      "text/plain": [
       "       tax_value  y_pred_mean\n",
       "31793   428575.0     527866.3\n",
       "52132   647000.0     527866.3\n",
       "36759   245335.0     527866.3\n",
       "27845   389856.0     527866.3\n",
       "10940   571678.0     527866.3\n",
       "...          ...          ...\n",
       "36610   692000.0     527866.3\n",
       "37446   408327.0     527866.3\n",
       "28826   528945.0     527866.3\n",
       "7133    440273.0     527866.3\n",
       "25682    78282.0     527866.3\n",
       "\n",
       "[28817 rows x 2 columns]"
      ]
     },
     "execution_count": 17,
     "metadata": {},
     "output_type": "execute_result"
    }
   ],
   "source": [
    "train_y_train"
   ]
  },
  {
   "cell_type": "code",
   "execution_count": 13,
   "metadata": {},
   "outputs": [
    {
     "data": {
      "text/plain": [
       "tax_value    376866.0\n",
       "dtype: float64"
      ]
     },
     "execution_count": 13,
     "metadata": {},
     "output_type": "execute_result"
    }
   ],
   "source": [
    "y_median = train_y_train.median()\n",
    "y_median"
   ]
  },
  {
   "cell_type": "code",
   "execution_count": null,
   "metadata": {},
   "outputs": [],
   "source": [
    "#store median\n",
    "train_y_train = 376866.00\n",
    "validate_y_"
   ]
  }
 ],
 "metadata": {
  "kernelspec": {
   "display_name": "base",
   "language": "python",
   "name": "python3"
  },
  "language_info": {
   "codemirror_mode": {
    "name": "ipython",
    "version": 3
   },
   "file_extension": ".py",
   "mimetype": "text/x-python",
   "name": "python",
   "nbconvert_exporter": "python",
   "pygments_lexer": "ipython3",
   "version": "3.9.13"
  },
  "orig_nbformat": 4,
  "vscode": {
   "interpreter": {
    "hash": "38cca0c38332a56087b24af0bc80247f4fced29cb4f7f437d91dc159adec9c4e"
   }
  }
 },
 "nbformat": 4,
 "nbformat_minor": 2
}
